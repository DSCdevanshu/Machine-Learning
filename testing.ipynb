{
 "cells": [
  {
   "cell_type": "code",
   "execution_count": 1,
   "id": "954accc4",
   "metadata": {},
   "outputs": [],
   "source": [
    "import pandas as pd\n",
    "import numpy as np\n",
    "from sklearn.metrics import mean_squared_error, mean_absolute_error\n",
    "import xgboost as xgb\n",
    "from tensorflow.keras.models import Sequential\n",
    "from tensorflow.keras.layers import LSTM, Dense\n",
    "from sklearn.preprocessing import MinMaxScaler\n",
    "import matplotlib.pyplot as plt\n",
    "from fastapi import FastAPI\n",
    "import uvicorn"
   ]
  },
  {
   "cell_type": "code",
   "execution_count": 2,
   "id": "9427b525",
   "metadata": {},
   "outputs": [],
   "source": [
    "sales_train = pd.read_csv(\"sales_train.csv\")\n",
    "items = pd.read_csv(\"items.csv\")\n",
    "shops = pd.read_csv(\"shops.csv\")\n",
    "item_categories = pd.read_csv(\"item_categories.csv\")\n",
    "test = pd.read_csv(\"test.csv\")"
   ]
  },
  {
   "cell_type": "code",
   "execution_count": 3,
   "id": "1eeb7f0f",
   "metadata": {},
   "outputs": [],
   "source": [
    "sales_train['date'] = pd.to_datetime(sales_train['date'], format='%d.%m.%Y')\n",
    "sales_monthly = sales_train.groupby(['date_block_num', 'shop_id', 'item_id'])['item_cnt_day'].sum().reset_index()\n",
    "sales_monthly.rename(columns={'item_cnt_day': 'item_cnt_month'}, inplace=True)"
   ]
  },
  {
   "cell_type": "code",
   "execution_count": 4,
   "id": "2012e1b2",
   "metadata": {},
   "outputs": [],
   "source": [
    "sales_monthly = sales_monthly.merge(items[['item_id', 'item_category_id']], on='item_id', how='left')\n",
    "sales_monthly = sales_monthly.merge(shops[['shop_id']], on='shop_id', how='left')"
   ]
  },
  {
   "cell_type": "code",
   "execution_count": 5,
   "id": "951a09c8",
   "metadata": {},
   "outputs": [],
   "source": [
    "monthly_total = sales_monthly.groupby('date_block_num')['item_cnt_month'].sum()\n",
    "plt.figure(figsize=(10, 6))\n",
    "plt.plot(monthly_total.index, monthly_total.values)\n",
    "plt.title(\"Total Monthly Sales Over Time\")\n",
    "plt.xlabel(\"Date Block Number (0 = Jan 2013, 33 = Oct 2015)\")\n",
    "plt.ylabel(\"Total Sales\")\n",
    "plt.grid(True)\n",
    "plt.savefig('sales_trend.png')\n",
    "plt.close()"
   ]
  },
  {
   "cell_type": "code",
   "execution_count": 6,
   "id": "ae5b11a7",
   "metadata": {},
   "outputs": [
    {
     "name": "stdout",
     "output_type": "stream",
     "text": [
      "Stats after capping outliers:\n"
     ]
    },
    {
     "data": {
      "text/plain": [
       "count    1.609124e+06\n",
       "mean     1.996717e+00\n",
       "std      2.410868e+00\n",
       "min     -2.200000e+01\n",
       "25%      1.000000e+00\n",
       "50%      1.000000e+00\n",
       "75%      2.000000e+00\n",
       "max      1.700000e+01\n",
       "Name: item_cnt_month, dtype: float64"
      ]
     },
     "metadata": {},
     "output_type": "display_data"
    }
   ],
   "source": [
    "cap_value = sales_monthly['item_cnt_month'].quantile(0.99)\n",
    "sales_monthly['item_cnt_month'] = sales_monthly['item_cnt_month'].clip(upper=cap_value)\n",
    "print(\"Stats after capping outliers:\")\n",
    "display(sales_monthly['item_cnt_month'].describe())"
   ]
  },
  {
   "cell_type": "code",
   "execution_count": 7,
   "id": "b0315a28",
   "metadata": {},
   "outputs": [],
   "source": [
    "date_range = range(0, 34)\n",
    "shop_ids = sales_train['shop_id'].unique()\n",
    "item_ids = sales_train['item_id'].unique()"
   ]
  },
  {
   "cell_type": "code",
   "execution_count": 8,
   "id": "96722004",
   "metadata": {},
   "outputs": [
    {
     "name": "stdout",
     "output_type": "stream",
     "text": [
      "          date_block_num  shop_id  item_id\n",
      "0                      0       59    22154\n",
      "1                      0       59     2552\n",
      "2                      0       59     2554\n",
      "3                      0       59     2555\n",
      "4                      0       59     2564\n",
      "...                  ...      ...      ...\n",
      "44486275              33       36     8428\n",
      "44486276              33       36     7903\n",
      "44486277              33       36     7610\n",
      "44486278              33       36     7635\n",
      "44486279              33       36     7640\n",
      "\n",
      "[44486280 rows x 3 columns]\n"
     ]
    }
   ],
   "source": [
    "grid = []\n",
    "for date_block in date_range:\n",
    "    for shop in shop_ids:\n",
    "        for item in item_ids:\n",
    "            grid.append([date_block, shop, item])\n",
    "grid = pd.DataFrame(grid, columns=['date_block_num', 'shop_id', 'item_id'])\n",
    "\n",
    "print(grid)"
   ]
  },
  {
   "cell_type": "code",
   "execution_count": 9,
   "id": "41223e75",
   "metadata": {},
   "outputs": [
    {
     "name": "stdout",
     "output_type": "stream",
     "text": [
      "Columns after merging with grid:\n",
      "Index(['date_block_num', 'shop_id', 'item_id', 'item_cnt_month',\n",
      "       'item_category_id'],\n",
      "      dtype='object')\n",
      "Columns after merging with items:\n",
      "Index(['date_block_num', 'shop_id', 'item_id', 'item_cnt_month',\n",
      "       'item_category_id_x', 'item_category_id_y'],\n",
      "      dtype='object')\n"
     ]
    },
    {
     "name": "stderr",
     "output_type": "stream",
     "text": [
      "C:\\Users\\devanshu.singh\\AppData\\Local\\Temp\\ipykernel_12796\\3719883060.py:12: FutureWarning: The behavior of array concatenation with empty entries is deprecated. In a future version, this will no longer exclude empty items when determining the result dtype. To retain the old behavior, exclude the empty entries before the concat operation.\n",
      "  sales_monthly['item_category_id'] = sales_monthly['item_category_id_y'].combine_first(sales_monthly['item_category_id_x'])\n"
     ]
    },
    {
     "name": "stdout",
     "output_type": "stream",
     "text": [
      "Columns after consolidating item_category_id:\n",
      "Index(['date_block_num', 'shop_id', 'item_id', 'item_cnt_month',\n",
      "       'item_category_id'],\n",
      "      dtype='object')\n",
      "Sales Monthly Data after Merging with Items:\n"
     ]
    },
    {
     "data": {
      "text/html": [
       "<div>\n",
       "<style scoped>\n",
       "    .dataframe tbody tr th:only-of-type {\n",
       "        vertical-align: middle;\n",
       "    }\n",
       "\n",
       "    .dataframe tbody tr th {\n",
       "        vertical-align: top;\n",
       "    }\n",
       "\n",
       "    .dataframe thead th {\n",
       "        text-align: right;\n",
       "    }\n",
       "</style>\n",
       "<table border=\"1\" class=\"dataframe\">\n",
       "  <thead>\n",
       "    <tr style=\"text-align: right;\">\n",
       "      <th></th>\n",
       "      <th>date_block_num</th>\n",
       "      <th>shop_id</th>\n",
       "      <th>item_id</th>\n",
       "      <th>item_cnt_month</th>\n",
       "      <th>item_category_id</th>\n",
       "    </tr>\n",
       "  </thead>\n",
       "  <tbody>\n",
       "    <tr>\n",
       "      <th>0</th>\n",
       "      <td>0</td>\n",
       "      <td>59</td>\n",
       "      <td>22154</td>\n",
       "      <td>1.0</td>\n",
       "      <td>37</td>\n",
       "    </tr>\n",
       "    <tr>\n",
       "      <th>1</th>\n",
       "      <td>0</td>\n",
       "      <td>59</td>\n",
       "      <td>2552</td>\n",
       "      <td>0.0</td>\n",
       "      <td>58</td>\n",
       "    </tr>\n",
       "    <tr>\n",
       "      <th>2</th>\n",
       "      <td>0</td>\n",
       "      <td>59</td>\n",
       "      <td>2554</td>\n",
       "      <td>0.0</td>\n",
       "      <td>58</td>\n",
       "    </tr>\n",
       "    <tr>\n",
       "      <th>3</th>\n",
       "      <td>0</td>\n",
       "      <td>59</td>\n",
       "      <td>2555</td>\n",
       "      <td>0.0</td>\n",
       "      <td>56</td>\n",
       "    </tr>\n",
       "    <tr>\n",
       "      <th>4</th>\n",
       "      <td>0</td>\n",
       "      <td>59</td>\n",
       "      <td>2564</td>\n",
       "      <td>0.0</td>\n",
       "      <td>59</td>\n",
       "    </tr>\n",
       "  </tbody>\n",
       "</table>\n",
       "</div>"
      ],
      "text/plain": [
       "   date_block_num  shop_id  item_id  item_cnt_month  item_category_id\n",
       "0               0       59    22154             1.0                37\n",
       "1               0       59     2552             0.0                58\n",
       "2               0       59     2554             0.0                58\n",
       "3               0       59     2555             0.0                56\n",
       "4               0       59     2564             0.0                59"
      ]
     },
     "metadata": {},
     "output_type": "display_data"
    }
   ],
   "source": [
    "sales_monthly = grid.merge(sales_monthly, on=['date_block_num', 'shop_id', 'item_id'], how='left').fillna(0)\n",
    "\n",
    "print(\"Columns after merging with grid:\")\n",
    "print(sales_monthly.columns)\n",
    "\n",
    "sales_monthly = sales_monthly.merge(items[['item_id', 'item_category_id']], on='item_id', how='left')\n",
    "\n",
    "print(\"Columns after merging with items:\")\n",
    "print(sales_monthly.columns)\n",
    "\n",
    "if 'item_category_id_x' in sales_monthly.columns and 'item_category_id_y' in sales_monthly.columns:\n",
    "    sales_monthly['item_category_id'] = sales_monthly['item_category_id_y'].combine_first(sales_monthly['item_category_id_x'])\n",
    "    sales_monthly = sales_monthly.drop(['item_category_id_x', 'item_category_id_y'], axis=1)\n",
    "elif 'item_category_id' in sales_monthly.columns:\n",
    "    pass\n",
    "else:\n",
    "    print(\"Warning: item_category_id not found after merge\")\n",
    "\n",
    "print(\"Columns after consolidating item_category_id:\")\n",
    "print(sales_monthly.columns)\n",
    "\n",
    "print(\"Sales Monthly Data after Merging with Items:\")\n",
    "display(sales_monthly.head())"
   ]
  },
  {
   "cell_type": "code",
   "execution_count": 10,
   "id": "4e49515f",
   "metadata": {},
   "outputs": [],
   "source": [
    "for lag in [1, 2, 3]:\n",
    "    shifted = sales_monthly.groupby(['shop_id', 'item_id'])['item_cnt_month'].shift(lag)\n",
    "    sales_monthly[f'lag_{lag}'] = shifted"
   ]
  },
  {
   "cell_type": "code",
   "execution_count": 11,
   "id": "ea45e558",
   "metadata": {},
   "outputs": [
    {
     "data": {
      "image/png": "[encoded data removed]",
      "text/plain": [
       "<Figure size 1000x600 with 1 Axes>"
      ]
     },
     "metadata": {},
     "output_type": "display_data"
    }
   ],
   "source": [
    "monthly_total = sales_monthly.groupby('date_block_num')['item_cnt_month'].sum()\n",
    "\n",
    "plt.figure(figsize=(10, 6))\n",
    "plt.plot(monthly_total.index, monthly_total.values, marker='o')\n",
    "plt.title(\"Total Monthly Sales Over Time\")\n",
    "plt.xlabel(\"Date Block Number (0 = Jan 2013, 33 = Oct 2015)\")\n",
    "plt.ylabel(\"Total Sales\")\n",
    "plt.grid(True)\n",
    "plt.savefig('sales_trend.png')\n",
    "plt.show()"
   ]
  },
  {
   "cell_type": "code",
   "execution_count": 12,
   "id": "9c46afa8",
   "metadata": {},
   "outputs": [
    {
     "name": "stdout",
     "output_type": "stream",
     "text": [
      "Number of outliers: 1606541\n",
      "Stats after removing outliers:\n"
     ]
    },
    {
     "data": {
      "text/plain": [
       "count    42879739.0\n",
       "mean            0.0\n",
       "std             0.0\n",
       "min             0.0\n",
       "25%             0.0\n",
       "50%             0.0\n",
       "75%             0.0\n",
       "max             0.0\n",
       "Name: item_cnt_month, dtype: float64"
      ]
     },
     "metadata": {},
     "output_type": "display_data"
    }
   ],
   "source": [
    "Q1 = sales_monthly['item_cnt_month'].quantile(0.25)\n",
    "Q3 = sales_monthly['item_cnt_month'].quantile(0.75)\n",
    "IQR = Q3 - Q1\n",
    "outlier_mask = (sales_monthly['item_cnt_month'] >= Q1 - 1.5 * IQR) & (sales_monthly['item_cnt_month'] <= Q3 + 1.5 * IQR)\n",
    "\n",
    "print(f\"Number of outliers: {len(sales_monthly) - outlier_mask.sum()}\")\n",
    "\n",
    "sales_monthly = sales_monthly[outlier_mask]\n",
    "\n",
    "print(\"Stats after removing outliers:\")\n",
    "display(sales_monthly['item_cnt_month'].describe())"
   ]
  },
  {
   "cell_type": "code",
   "execution_count": 13,
   "id": "8b1835aa",
   "metadata": {},
   "outputs": [
    {
     "name": "stdout",
     "output_type": "stream",
     "text": [
      "Grid shape: (44486280, 3)\n"
     ]
    },
    {
     "data": {
      "text/html": [
       "<div>\n",
       "<style scoped>\n",
       "    .dataframe tbody tr th:only-of-type {\n",
       "        vertical-align: middle;\n",
       "    }\n",
       "\n",
       "    .dataframe tbody tr th {\n",
       "        vertical-align: top;\n",
       "    }\n",
       "\n",
       "    .dataframe thead th {\n",
       "        text-align: right;\n",
       "    }\n",
       "</style>\n",
       "<table border=\"1\" class=\"dataframe\">\n",
       "  <thead>\n",
       "    <tr style=\"text-align: right;\">\n",
       "      <th></th>\n",
       "      <th>date_block_num</th>\n",
       "      <th>shop_id</th>\n",
       "      <th>item_id</th>\n",
       "    </tr>\n",
       "  </thead>\n",
       "  <tbody>\n",
       "    <tr>\n",
       "      <th>0</th>\n",
       "      <td>0</td>\n",
       "      <td>59</td>\n",
       "      <td>22154</td>\n",
       "    </tr>\n",
       "    <tr>\n",
       "      <th>1</th>\n",
       "      <td>0</td>\n",
       "      <td>59</td>\n",
       "      <td>2552</td>\n",
       "    </tr>\n",
       "    <tr>\n",
       "      <th>2</th>\n",
       "      <td>0</td>\n",
       "      <td>59</td>\n",
       "      <td>2554</td>\n",
       "    </tr>\n",
       "    <tr>\n",
       "      <th>3</th>\n",
       "      <td>0</td>\n",
       "      <td>59</td>\n",
       "      <td>2555</td>\n",
       "    </tr>\n",
       "    <tr>\n",
       "      <th>4</th>\n",
       "      <td>0</td>\n",
       "      <td>59</td>\n",
       "      <td>2564</td>\n",
       "    </tr>\n",
       "  </tbody>\n",
       "</table>\n",
       "</div>"
      ],
      "text/plain": [
       "   date_block_num  shop_id  item_id\n",
       "0               0       59    22154\n",
       "1               0       59     2552\n",
       "2               0       59     2554\n",
       "3               0       59     2555\n",
       "4               0       59     2564"
      ]
     },
     "metadata": {},
     "output_type": "display_data"
    }
   ],
   "source": [
    "date_range = range(0, 34)\n",
    "\n",
    "shop_ids = sales_train['shop_id'].unique()\n",
    "item_ids = sales_train['item_id'].unique()\n",
    "\n",
    "grid = []\n",
    "for date_block in date_range:\n",
    "    for shop in shop_ids:\n",
    "        for item in item_ids:\n",
    "            grid.append([date_block, shop, item])\n",
    "\n",
    "grid = pd.DataFrame(grid, columns=['date_block_num', 'shop_id', 'item_id'])\n",
    "\n",
    "print(f\"Grid shape: {grid.shape}\")\n",
    "display(grid.head())"
   ]
  },
  {
   "cell_type": "code",
   "execution_count": 14,
   "id": "d67dbf90",
   "metadata": {},
   "outputs": [
    {
     "name": "stdout",
     "output_type": "stream",
     "text": [
      "Sales Monthly Data after Merging:\n"
     ]
    },
    {
     "data": {
      "text/html": [
       "<div>\n",
       "<style scoped>\n",
       "    .dataframe tbody tr th:only-of-type {\n",
       "        vertical-align: middle;\n",
       "    }\n",
       "\n",
       "    .dataframe tbody tr th {\n",
       "        vertical-align: top;\n",
       "    }\n",
       "\n",
       "    .dataframe thead th {\n",
       "        text-align: right;\n",
       "    }\n",
       "</style>\n",
       "<table border=\"1\" class=\"dataframe\">\n",
       "  <thead>\n",
       "    <tr style=\"text-align: right;\">\n",
       "      <th></th>\n",
       "      <th>date_block_num</th>\n",
       "      <th>shop_id</th>\n",
       "      <th>item_id</th>\n",
       "      <th>item_cnt_month</th>\n",
       "      <th>lag_1</th>\n",
       "      <th>lag_2</th>\n",
       "      <th>lag_3</th>\n",
       "      <th>item_category_id</th>\n",
       "    </tr>\n",
       "  </thead>\n",
       "  <tbody>\n",
       "    <tr>\n",
       "      <th>0</th>\n",
       "      <td>0</td>\n",
       "      <td>59</td>\n",
       "      <td>22154</td>\n",
       "      <td>0.0</td>\n",
       "      <td>0.0</td>\n",
       "      <td>0.0</td>\n",
       "      <td>0.0</td>\n",
       "      <td>37</td>\n",
       "    </tr>\n",
       "    <tr>\n",
       "      <th>1</th>\n",
       "      <td>0</td>\n",
       "      <td>59</td>\n",
       "      <td>2552</td>\n",
       "      <td>0.0</td>\n",
       "      <td>0.0</td>\n",
       "      <td>0.0</td>\n",
       "      <td>0.0</td>\n",
       "      <td>58</td>\n",
       "    </tr>\n",
       "    <tr>\n",
       "      <th>2</th>\n",
       "      <td>0</td>\n",
       "      <td>59</td>\n",
       "      <td>2554</td>\n",
       "      <td>0.0</td>\n",
       "      <td>0.0</td>\n",
       "      <td>0.0</td>\n",
       "      <td>0.0</td>\n",
       "      <td>58</td>\n",
       "    </tr>\n",
       "    <tr>\n",
       "      <th>3</th>\n",
       "      <td>0</td>\n",
       "      <td>59</td>\n",
       "      <td>2555</td>\n",
       "      <td>0.0</td>\n",
       "      <td>0.0</td>\n",
       "      <td>0.0</td>\n",
       "      <td>0.0</td>\n",
       "      <td>56</td>\n",
       "    </tr>\n",
       "    <tr>\n",
       "      <th>4</th>\n",
       "      <td>0</td>\n",
       "      <td>59</td>\n",
       "      <td>2564</td>\n",
       "      <td>0.0</td>\n",
       "      <td>0.0</td>\n",
       "      <td>0.0</td>\n",
       "      <td>0.0</td>\n",
       "      <td>59</td>\n",
       "    </tr>\n",
       "  </tbody>\n",
       "</table>\n",
       "</div>"
      ],
      "text/plain": [
       "   date_block_num  shop_id  item_id  item_cnt_month  lag_1  lag_2  lag_3  \\\n",
       "0               0       59    22154             0.0    0.0    0.0    0.0   \n",
       "1               0       59     2552             0.0    0.0    0.0    0.0   \n",
       "2               0       59     2554             0.0    0.0    0.0    0.0   \n",
       "3               0       59     2555             0.0    0.0    0.0    0.0   \n",
       "4               0       59     2564             0.0    0.0    0.0    0.0   \n",
       "\n",
       "   item_category_id  \n",
       "0                37  \n",
       "1                58  \n",
       "2                58  \n",
       "3                56  \n",
       "4                59  "
      ]
     },
     "metadata": {},
     "output_type": "display_data"
    },
    {
     "name": "stdout",
     "output_type": "stream",
     "text": [
      "\n",
      "Missing Values:\n"
     ]
    },
    {
     "data": {
      "text/plain": [
       "date_block_num      0\n",
       "shop_id             0\n",
       "item_id             0\n",
       "item_cnt_month      0\n",
       "lag_1               0\n",
       "lag_2               0\n",
       "lag_3               0\n",
       "item_category_id    0\n",
       "dtype: int64"
      ]
     },
     "metadata": {},
     "output_type": "display_data"
    }
   ],
   "source": [
    "sales_monthly = grid.merge(sales_monthly[['date_block_num', 'shop_id', 'item_id', 'item_cnt_month', 'item_category_id', 'lag_1', 'lag_2', 'lag_3']], \n",
    "                          on=['date_block_num', 'shop_id', 'item_id'], \n",
    "                          how='left')\n",
    "\n",
    "sales_monthly['item_cnt_month'] = sales_monthly['item_cnt_month'].fillna(0)\n",
    "sales_monthly[['lag_1', 'lag_2', 'lag_3']] = sales_monthly[['lag_1', 'lag_2', 'lag_3']].fillna(0)\n",
    "\n",
    "sales_monthly = sales_monthly.rename(columns={'item_category_id': 'item_category_id_temp'})\n",
    "sales_monthly = sales_monthly.merge(items[['item_id', 'item_category_id']], on='item_id', how='left')\n",
    "\n",
    "sales_monthly['item_category_id'] = sales_monthly['item_category_id'].fillna(sales_monthly['item_category_id_temp'])\n",
    "sales_monthly['item_category_id'] = sales_monthly['item_category_id'].fillna(-1)  # Use -1 for unknown categories\n",
    "\n",
    "sales_monthly = sales_monthly.drop(columns=['item_category_id_temp'])\n",
    "\n",
    "print(\"Sales Monthly Data after Merging:\")\n",
    "display(sales_monthly.head())\n",
    "print(\"\\nMissing Values:\")\n",
    "display(sales_monthly.isnull().sum())"
   ]
  },
  {
   "cell_type": "code",
   "execution_count": 15,
   "id": "a7d7d00c",
   "metadata": {},
   "outputs": [
    {
     "name": "stdout",
     "output_type": "stream",
     "text": [
      "Unique Shop IDs: 60\n",
      "Unique Item IDs: 21807\n",
      "Unique Item Category IDs: 84\n",
      "\n",
      "Data Types:\n"
     ]
    },
    {
     "data": {
      "text/plain": [
       "date_block_num        int64\n",
       "shop_id               int64\n",
       "item_id               int64\n",
       "item_cnt_month      float64\n",
       "lag_1               float64\n",
       "lag_2               float64\n",
       "lag_3               float64\n",
       "item_category_id      int64\n",
       "dtype: object"
      ]
     },
     "metadata": {},
     "output_type": "display_data"
    }
   ],
   "source": [
    "print(\"Unique Shop IDs:\", sales_monthly['shop_id'].nunique())\n",
    "print(\"Unique Item IDs:\", sales_monthly['item_id'].nunique())\n",
    "print(\"Unique Item Category IDs:\", sales_monthly['item_category_id'].nunique())\n",
    "print(\"\\nData Types:\")\n",
    "display(sales_monthly.dtypes)"
   ]
  },
  {
   "cell_type": "code",
   "execution_count": 16,
   "id": "a95c336f",
   "metadata": {},
   "outputs": [
    {
     "name": "stdout",
     "output_type": "stream",
     "text": [
      "Sales Monthly Data with Lag Features:\n"
     ]
    },
    {
     "data": {
      "text/html": [
       "<div>\n",
       "<style scoped>\n",
       "    .dataframe tbody tr th:only-of-type {\n",
       "        vertical-align: middle;\n",
       "    }\n",
       "\n",
       "    .dataframe tbody tr th {\n",
       "        vertical-align: top;\n",
       "    }\n",
       "\n",
       "    .dataframe thead th {\n",
       "        text-align: right;\n",
       "    }\n",
       "</style>\n",
       "<table border=\"1\" class=\"dataframe\">\n",
       "  <thead>\n",
       "    <tr style=\"text-align: right;\">\n",
       "      <th></th>\n",
       "      <th>date_block_num</th>\n",
       "      <th>shop_id</th>\n",
       "      <th>item_id</th>\n",
       "      <th>item_cnt_month</th>\n",
       "      <th>lag_1</th>\n",
       "      <th>lag_2</th>\n",
       "      <th>lag_3</th>\n",
       "      <th>item_category_id</th>\n",
       "    </tr>\n",
       "  </thead>\n",
       "  <tbody>\n",
       "    <tr>\n",
       "      <th>0</th>\n",
       "      <td>0</td>\n",
       "      <td>59</td>\n",
       "      <td>22154</td>\n",
       "      <td>0.0</td>\n",
       "      <td>0.0</td>\n",
       "      <td>0.0</td>\n",
       "      <td>0.0</td>\n",
       "      <td>37</td>\n",
       "    </tr>\n",
       "    <tr>\n",
       "      <th>1</th>\n",
       "      <td>0</td>\n",
       "      <td>59</td>\n",
       "      <td>2552</td>\n",
       "      <td>0.0</td>\n",
       "      <td>0.0</td>\n",
       "      <td>0.0</td>\n",
       "      <td>0.0</td>\n",
       "      <td>58</td>\n",
       "    </tr>\n",
       "    <tr>\n",
       "      <th>2</th>\n",
       "      <td>0</td>\n",
       "      <td>59</td>\n",
       "      <td>2554</td>\n",
       "      <td>0.0</td>\n",
       "      <td>0.0</td>\n",
       "      <td>0.0</td>\n",
       "      <td>0.0</td>\n",
       "      <td>58</td>\n",
       "    </tr>\n",
       "    <tr>\n",
       "      <th>3</th>\n",
       "      <td>0</td>\n",
       "      <td>59</td>\n",
       "      <td>2555</td>\n",
       "      <td>0.0</td>\n",
       "      <td>0.0</td>\n",
       "      <td>0.0</td>\n",
       "      <td>0.0</td>\n",
       "      <td>56</td>\n",
       "    </tr>\n",
       "    <tr>\n",
       "      <th>4</th>\n",
       "      <td>0</td>\n",
       "      <td>59</td>\n",
       "      <td>2564</td>\n",
       "      <td>0.0</td>\n",
       "      <td>0.0</td>\n",
       "      <td>0.0</td>\n",
       "      <td>0.0</td>\n",
       "      <td>59</td>\n",
       "    </tr>\n",
       "  </tbody>\n",
       "</table>\n",
       "</div>"
      ],
      "text/plain": [
       "   date_block_num  shop_id  item_id  item_cnt_month  lag_1  lag_2  lag_3  \\\n",
       "0               0       59    22154             0.0    0.0    0.0    0.0   \n",
       "1               0       59     2552             0.0    0.0    0.0    0.0   \n",
       "2               0       59     2554             0.0    0.0    0.0    0.0   \n",
       "3               0       59     2555             0.0    0.0    0.0    0.0   \n",
       "4               0       59     2564             0.0    0.0    0.0    0.0   \n",
       "\n",
       "   item_category_id  \n",
       "0                37  \n",
       "1                58  \n",
       "2                58  \n",
       "3                56  \n",
       "4                59  "
      ]
     },
     "metadata": {},
     "output_type": "display_data"
    }
   ],
   "source": [
    "for lag in [1, 2, 3]:\n",
    "    shifted = sales_monthly.groupby(['shop_id', 'item_id'])['item_cnt_month'].shift(lag)\n",
    "    sales_monthly[f'lag_{lag}'] = shifted\n",
    "\n",
    "sales_monthly[['lag_1', 'lag_2', 'lag_3']] = sales_monthly[['lag_1', 'lag_2', 'lag_3']].fillna(0)\n",
    "\n",
    "print(\"Sales Monthly Data with Lag Features:\")\n",
    "display(sales_monthly.head())"
   ]
  },
  {
   "cell_type": "code",
   "execution_count": 17,
   "id": "cc99d750",
   "metadata": {},
   "outputs": [
    {
     "name": "stdout",
     "output_type": "stream",
     "text": [
      "Sales Monthly Data with Rolling Mean:\n"
     ]
    },
    {
     "data": {
      "text/html": [
       "<div>\n",
       "<style scoped>\n",
       "    .dataframe tbody tr th:only-of-type {\n",
       "        vertical-align: middle;\n",
       "    }\n",
       "\n",
       "    .dataframe tbody tr th {\n",
       "        vertical-align: top;\n",
       "    }\n",
       "\n",
       "    .dataframe thead th {\n",
       "        text-align: right;\n",
       "    }\n",
       "</style>\n",
       "<table border=\"1\" class=\"dataframe\">\n",
       "  <thead>\n",
       "    <tr style=\"text-align: right;\">\n",
       "      <th></th>\n",
       "      <th>date_block_num</th>\n",
       "      <th>shop_id</th>\n",
       "      <th>item_id</th>\n",
       "      <th>item_cnt_month</th>\n",
       "      <th>lag_1</th>\n",
       "      <th>lag_2</th>\n",
       "      <th>lag_3</th>\n",
       "      <th>item_category_id</th>\n",
       "      <th>rolling_mean</th>\n",
       "    </tr>\n",
       "  </thead>\n",
       "  <tbody>\n",
       "    <tr>\n",
       "      <th>0</th>\n",
       "      <td>0</td>\n",
       "      <td>59</td>\n",
       "      <td>22154</td>\n",
       "      <td>0.0</td>\n",
       "      <td>0.0</td>\n",
       "      <td>0.0</td>\n",
       "      <td>0.0</td>\n",
       "      <td>37</td>\n",
       "      <td>0.0</td>\n",
       "    </tr>\n",
       "    <tr>\n",
       "      <th>1</th>\n",
       "      <td>0</td>\n",
       "      <td>59</td>\n",
       "      <td>2552</td>\n",
       "      <td>0.0</td>\n",
       "      <td>0.0</td>\n",
       "      <td>0.0</td>\n",
       "      <td>0.0</td>\n",
       "      <td>58</td>\n",
       "      <td>0.0</td>\n",
       "    </tr>\n",
       "    <tr>\n",
       "      <th>2</th>\n",
       "      <td>0</td>\n",
       "      <td>59</td>\n",
       "      <td>2554</td>\n",
       "      <td>0.0</td>\n",
       "      <td>0.0</td>\n",
       "      <td>0.0</td>\n",
       "      <td>0.0</td>\n",
       "      <td>58</td>\n",
       "      <td>0.0</td>\n",
       "    </tr>\n",
       "    <tr>\n",
       "      <th>3</th>\n",
       "      <td>0</td>\n",
       "      <td>59</td>\n",
       "      <td>2555</td>\n",
       "      <td>0.0</td>\n",
       "      <td>0.0</td>\n",
       "      <td>0.0</td>\n",
       "      <td>0.0</td>\n",
       "      <td>56</td>\n",
       "      <td>0.0</td>\n",
       "    </tr>\n",
       "    <tr>\n",
       "      <th>4</th>\n",
       "      <td>0</td>\n",
       "      <td>59</td>\n",
       "      <td>2564</td>\n",
       "      <td>0.0</td>\n",
       "      <td>0.0</td>\n",
       "      <td>0.0</td>\n",
       "      <td>0.0</td>\n",
       "      <td>59</td>\n",
       "      <td>0.0</td>\n",
       "    </tr>\n",
       "  </tbody>\n",
       "</table>\n",
       "</div>"
      ],
      "text/plain": [
       "   date_block_num  shop_id  item_id  item_cnt_month  lag_1  lag_2  lag_3  \\\n",
       "0               0       59    22154             0.0    0.0    0.0    0.0   \n",
       "1               0       59     2552             0.0    0.0    0.0    0.0   \n",
       "2               0       59     2554             0.0    0.0    0.0    0.0   \n",
       "3               0       59     2555             0.0    0.0    0.0    0.0   \n",
       "4               0       59     2564             0.0    0.0    0.0    0.0   \n",
       "\n",
       "   item_category_id  rolling_mean  \n",
       "0                37           0.0  \n",
       "1                58           0.0  \n",
       "2                58           0.0  \n",
       "3                56           0.0  \n",
       "4                59           0.0  "
      ]
     },
     "metadata": {},
     "output_type": "display_data"
    }
   ],
   "source": [
    "sales_monthly['rolling_mean'] = sales_monthly.groupby(['shop_id', 'item_id'])['item_cnt_month'].transform(lambda x: x.rolling(window=3, min_periods=1).mean())\n",
    "\n",
    "sales_monthly['rolling_mean'] = sales_monthly['rolling_mean'].fillna(0)\n",
    "\n",
    "print(\"Sales Monthly Data with Rolling Mean:\")\n",
    "display(sales_monthly.head())"
   ]
  },
  {
   "cell_type": "code",
   "execution_count": 18,
   "id": "818e7089",
   "metadata": {},
   "outputs": [
    {
     "name": "stdout",
     "output_type": "stream",
     "text": [
      "Sales Monthly Data with Price Trends:\n"
     ]
    },
    {
     "data": {
      "text/html": [
       "<div>\n",
       "<style scoped>\n",
       "    .dataframe tbody tr th:only-of-type {\n",
       "        vertical-align: middle;\n",
       "    }\n",
       "\n",
       "    .dataframe tbody tr th {\n",
       "        vertical-align: top;\n",
       "    }\n",
       "\n",
       "    .dataframe thead th {\n",
       "        text-align: right;\n",
       "    }\n",
       "</style>\n",
       "<table border=\"1\" class=\"dataframe\">\n",
       "  <thead>\n",
       "    <tr style=\"text-align: right;\">\n",
       "      <th></th>\n",
       "      <th>date_block_num</th>\n",
       "      <th>shop_id</th>\n",
       "      <th>item_id</th>\n",
       "      <th>item_cnt_month</th>\n",
       "      <th>lag_1</th>\n",
       "      <th>lag_2</th>\n",
       "      <th>lag_3</th>\n",
       "      <th>item_category_id</th>\n",
       "      <th>rolling_mean</th>\n",
       "      <th>price_trend</th>\n",
       "    </tr>\n",
       "  </thead>\n",
       "  <tbody>\n",
       "    <tr>\n",
       "      <th>0</th>\n",
       "      <td>0</td>\n",
       "      <td>59</td>\n",
       "      <td>22154</td>\n",
       "      <td>0.0</td>\n",
       "      <td>0.0</td>\n",
       "      <td>0.0</td>\n",
       "      <td>0.0</td>\n",
       "      <td>37</td>\n",
       "      <td>0.0</td>\n",
       "      <td>0.0</td>\n",
       "    </tr>\n",
       "    <tr>\n",
       "      <th>1</th>\n",
       "      <td>0</td>\n",
       "      <td>59</td>\n",
       "      <td>2552</td>\n",
       "      <td>0.0</td>\n",
       "      <td>0.0</td>\n",
       "      <td>0.0</td>\n",
       "      <td>0.0</td>\n",
       "      <td>58</td>\n",
       "      <td>0.0</td>\n",
       "      <td>0.0</td>\n",
       "    </tr>\n",
       "    <tr>\n",
       "      <th>2</th>\n",
       "      <td>0</td>\n",
       "      <td>59</td>\n",
       "      <td>2554</td>\n",
       "      <td>0.0</td>\n",
       "      <td>0.0</td>\n",
       "      <td>0.0</td>\n",
       "      <td>0.0</td>\n",
       "      <td>58</td>\n",
       "      <td>0.0</td>\n",
       "      <td>0.0</td>\n",
       "    </tr>\n",
       "    <tr>\n",
       "      <th>3</th>\n",
       "      <td>0</td>\n",
       "      <td>59</td>\n",
       "      <td>2555</td>\n",
       "      <td>0.0</td>\n",
       "      <td>0.0</td>\n",
       "      <td>0.0</td>\n",
       "      <td>0.0</td>\n",
       "      <td>56</td>\n",
       "      <td>0.0</td>\n",
       "      <td>0.0</td>\n",
       "    </tr>\n",
       "    <tr>\n",
       "      <th>4</th>\n",
       "      <td>0</td>\n",
       "      <td>59</td>\n",
       "      <td>2564</td>\n",
       "      <td>0.0</td>\n",
       "      <td>0.0</td>\n",
       "      <td>0.0</td>\n",
       "      <td>0.0</td>\n",
       "      <td>59</td>\n",
       "      <td>0.0</td>\n",
       "      <td>0.0</td>\n",
       "    </tr>\n",
       "  </tbody>\n",
       "</table>\n",
       "</div>"
      ],
      "text/plain": [
       "   date_block_num  shop_id  item_id  item_cnt_month  lag_1  lag_2  lag_3  \\\n",
       "0               0       59    22154             0.0    0.0    0.0    0.0   \n",
       "1               0       59     2552             0.0    0.0    0.0    0.0   \n",
       "2               0       59     2554             0.0    0.0    0.0    0.0   \n",
       "3               0       59     2555             0.0    0.0    0.0    0.0   \n",
       "4               0       59     2564             0.0    0.0    0.0    0.0   \n",
       "\n",
       "   item_category_id  rolling_mean  price_trend  \n",
       "0                37           0.0          0.0  \n",
       "1                58           0.0          0.0  \n",
       "2                58           0.0          0.0  \n",
       "3                56           0.0          0.0  \n",
       "4                59           0.0          0.0  "
      ]
     },
     "metadata": {},
     "output_type": "display_data"
    }
   ],
   "source": [
    "price_data = sales_train.groupby(['date_block_num', 'shop_id', 'item_id'])['item_price'].mean().reset_index()\n",
    "\n",
    "sales_monthly = sales_monthly.merge(price_data, on=['date_block_num', 'shop_id', 'item_id'], how='left')\n",
    "\n",
    "sales_monthly['item_price'] = sales_monthly['item_price'].fillna(0)\n",
    "\n",
    "sales_monthly['price_trend'] = sales_monthly.groupby(['shop_id', 'item_id'])['item_price'].pct_change().replace([np.inf, -np.inf], 0).fillna(0)\n",
    "\n",
    "sales_monthly = sales_monthly.drop(columns=['item_price'])\n",
    "\n",
    "print(\"Sales Monthly Data with Price Trends:\")\n",
    "display(sales_monthly.head())"
   ]
  },
  {
   "cell_type": "code",
   "execution_count": 19,
   "id": "5eb6f4e2",
   "metadata": {},
   "outputs": [
    {
     "name": "stderr",
     "output_type": "stream",
     "text": [
      "C:\\Users\\devanshu.singh\\AppData\\Local\\Temp\\ipykernel_12796\\3078562410.py:13: SettingWithCopyWarning: \n",
      "A value is trying to be set on a copy of a slice from a DataFrame.\n",
      "Try using .loc[row_indexer,col_indexer] = value instead\n",
      "\n",
      "See the caveats in the documentation: https://pandas.pydata.org/pandas-docs/stable/user_guide/indexing.html#returning-a-view-versus-a-copy\n",
      "  X_train[col] = X_train[col].replace([np.inf, -np.inf], 0)\n",
      "C:\\Users\\devanshu.singh\\AppData\\Local\\Temp\\ipykernel_12796\\3078562410.py:14: SettingWithCopyWarning: \n",
      "A value is trying to be set on a copy of a slice from a DataFrame.\n",
      "Try using .loc[row_indexer,col_indexer] = value instead\n",
      "\n",
      "See the caveats in the documentation: https://pandas.pydata.org/pandas-docs/stable/user_guide/indexing.html#returning-a-view-versus-a-copy\n",
      "  X_val[col] = X_val[col].replace([np.inf, -np.inf], 0)\n"
     ]
    },
    {
     "name": "stdout",
     "output_type": "stream",
     "text": [
      "XGBoost RMSE: 0.0\n",
      "XGBoost MAE: 0.0\n",
      "XGBoost RMSE (clipped): 0.0\n",
      "XGBoost MAE (clipped): 0.0\n"
     ]
    }
   ],
   "source": [
    "\n",
    "features = ['shop_id', 'item_id', 'item_category_id', 'lag_1', 'lag_2', 'lag_3', 'rolling_mean', 'price_trend']\n",
    "target = 'item_cnt_month'\n",
    "\n",
    "train_data = sales_monthly[sales_monthly['date_block_num'] < 33]\n",
    "val_data = sales_monthly[sales_monthly['date_block_num'] == 33]\n",
    "\n",
    "X_train = train_data[features]\n",
    "y_train = train_data[target]\n",
    "X_val = val_data[features]\n",
    "y_val = val_data[target]\n",
    "\n",
    "for col in features:\n",
    "    X_train[col] = X_train[col].replace([np.inf, -np.inf], 0)\n",
    "    X_val[col] = X_val[col].replace([np.inf, -np.inf], 0)\n",
    "\n",
    "\n",
    "xgb_model = xgb.XGBRegressor(objective='reg:squarederror', n_estimators=100, learning_rate=0.1, max_depth=5, random_state=42)\n",
    "xgb_model.fit(X_train, y_train)\n",
    "\n",
    "xgb_pred = xgb_model.predict(X_val)\n",
    "\n",
    "xgb_rmse = np.sqrt(mean_squared_error(y_val, xgb_pred))\n",
    "xgb_mae = mean_absolute_error(y_val, xgb_pred)\n",
    "\n",
    "print(f\"XGBoost RMSE: {xgb_rmse}\")\n",
    "print(f\"XGBoost MAE: {xgb_mae}\")\n",
    "\n",
    "xgb_pred_clipped = np.maximum(xgb_pred, 0)\n",
    "xgb_rmse_clipped = np.sqrt(mean_squared_error(y_val, xgb_pred_clipped))\n",
    "xgb_mae_clipped = mean_absolute_error(y_val, xgb_pred_clipped)\n",
    "print(f\"XGBoost RMSE (clipped): {xgb_rmse_clipped}\")\n",
    "print(f\"XGBoost MAE (clipped): {xgb_mae_clipped}\")"
   ]
  },
  {
   "cell_type": "code",
   "execution_count": 20,
   "id": "82a6caed",
   "metadata": {},
   "outputs": [
    {
     "name": "stdout",
     "output_type": "stream",
     "text": [
      "Submission Preview:\n"
     ]
    },
    {
     "data": {
      "text/html": [
       "<div>\n",
       "<style scoped>\n",
       "    .dataframe tbody tr th:only-of-type {\n",
       "        vertical-align: middle;\n",
       "    }\n",
       "\n",
       "    .dataframe tbody tr th {\n",
       "        vertical-align: top;\n",
       "    }\n",
       "\n",
       "    .dataframe thead th {\n",
       "        text-align: right;\n",
       "    }\n",
       "</style>\n",
       "<table border=\"1\" class=\"dataframe\">\n",
       "  <thead>\n",
       "    <tr style=\"text-align: right;\">\n",
       "      <th></th>\n",
       "      <th>ID</th>\n",
       "      <th>item_cnt_month</th>\n",
       "    </tr>\n",
       "  </thead>\n",
       "  <tbody>\n",
       "    <tr>\n",
       "      <th>0</th>\n",
       "      <td>0</td>\n",
       "      <td>0.0</td>\n",
       "    </tr>\n",
       "    <tr>\n",
       "      <th>1</th>\n",
       "      <td>1</td>\n",
       "      <td>0.0</td>\n",
       "    </tr>\n",
       "    <tr>\n",
       "      <th>2</th>\n",
       "      <td>2</td>\n",
       "      <td>0.0</td>\n",
       "    </tr>\n",
       "    <tr>\n",
       "      <th>3</th>\n",
       "      <td>3</td>\n",
       "      <td>0.0</td>\n",
       "    </tr>\n",
       "    <tr>\n",
       "      <th>4</th>\n",
       "      <td>4</td>\n",
       "      <td>0.0</td>\n",
       "    </tr>\n",
       "  </tbody>\n",
       "</table>\n",
       "</div>"
      ],
      "text/plain": [
       "   ID  item_cnt_month\n",
       "0   0             0.0\n",
       "1   1             0.0\n",
       "2   2             0.0\n",
       "3   3             0.0\n",
       "4   4             0.0"
      ]
     },
     "metadata": {},
     "output_type": "display_data"
    }
   ],
   "source": [
    "train_full = sales_monthly[sales_monthly['date_block_num'] <= 33]\n",
    "X_train_full = train_full[features]\n",
    "y_train_full = train_full[target]\n",
    "\n",
    "xgb_model.fit(X_train_full, y_train_full)\n",
    "\n",
    "test['date_block_num'] = 34\n",
    "test_data = test.merge(sales_monthly[sales_monthly['date_block_num'] == 33][['shop_id', 'item_id', 'lag_1', 'lag_2', 'lag_3', 'rolling_mean', 'price_trend']], \n",
    "                       on=['shop_id', 'item_id'], \n",
    "                       how='left')\n",
    "test_data = test_data.merge(items[['item_id', 'item_category_id']], on='item_id', how='left')\n",
    "test_data[features] = test_data[features].fillna(0)\n",
    "test_data[features] = test_data[features].replace([np.inf, -np.inf], 0)\n",
    "test_pred = xgb_model.predict(test_data[features])\n",
    "test_pred = np.maximum(test_pred, 0)\n",
    "\n",
    "submission = test[['ID']].copy()\n",
    "submission['item_cnt_month'] = test_pred\n",
    "submission.to_csv('submission.csv', index=False)\n",
    "\n",
    "print(\"Submission Preview:\")\n",
    "display(submission.head())"
   ]
  },
  {
   "cell_type": "code",
   "execution_count": 21,
   "id": "a2fc5667",
   "metadata": {},
   "outputs": [],
   "source": [
    "test_data.to_pickle('test_data.pkl')\n",
    "xgb_model.save_model('xgb_model.json')"
   ]
  }
 ],
 "metadata": {
  "kernelspec": {
   "display_name": "Python 3",
   "language": "python",
   "name": "python3"
  },
  "language_info": {
   "codemirror_mode": {
    "name": "ipython",
    "version": 3
   },
   "file_extension": ".py",
   "mimetype": "text/x-python",
   "name": "python",
   "nbconvert_exporter": "python",
   "pygments_lexer": "ipython3",
   "version": "3.12.5"
  }
 },
 "nbformat": 4,
 "nbformat_minor": 5
}
